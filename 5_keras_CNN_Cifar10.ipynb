{
  "nbformat": 4,
  "nbformat_minor": 0,
  "metadata": {
    "colab": {
      "name": "5.keras_CNN_Cifar10.ipynb",
      "provenance": []
    },
    "kernelspec": {
      "name": "python3",
      "display_name": "Python 3"
    },
    "language_info": {
      "name": "python"
    },
    "accelerator": "GPU"
  },
  "cells": [
    {
      "cell_type": "markdown",
      "metadata": {
        "id": "view-in-github"
      },
      "source": [
        "<a href=\"https://colab.research.google.com/github/shhuangmust/AI/blob/110-2/5.keras_CNN_Cifar10.ipynb\" target=\"_parent\"><img src=\"https://colab.research.google.com/assets/colab-badge.svg\" alt=\"Open In Colab\"/></a>"
      ]
    },
    {
      "cell_type": "code",
      "source": [
        "from tensorflow import keras\n",
        "from keras.models import Sequential\n",
        "from keras.layers import Dense, Conv2D, MaxPooling2D, Flatten\n",
        "model=Sequential()\n",
        "model.add(Conv2D(filters=64, kernel_size=(5, 5), input_shape=(32, 32, 3), activation='relu'))\n",
        "model.add(Conv2D(filters=64, kernel_size=(5, 5), activation='relu'))\n",
        "model.add(MaxPooling2D(pool_size=2))\n",
        "model.add(Conv2D(filters=128, kernel_size=(5, 5), activation='relu'))\n",
        "model.add(Conv2D(filters=128, kernel_size=(5, 5), activation='relu'))\n",
        "model.add(MaxPooling2D(pool_size=2))\n",
        "model.add(Flatten())\n",
        "model.add(Dense(10, activation='softmax'))\n",
        "model.summary()\n",
        "model.compile(optimizer='rmsprop', loss='categorical_crossentropy', metrics=['accuracy'])"
      ],
      "metadata": {
        "colab": {
          "base_uri": "https://localhost:8080/"
        },
        "id": "LQ_HZ-tK8L-C",
        "outputId": "216c315d-c941-4b9c-bdf1-1620bee1fd33"
      },
      "execution_count": 1,
      "outputs": [
        {
          "output_type": "stream",
          "name": "stdout",
          "text": [
            "Model: \"sequential\"\n",
            "_________________________________________________________________\n",
            " Layer (type)                Output Shape              Param #   \n",
            "=================================================================\n",
            " conv2d (Conv2D)             (None, 28, 28, 64)        4864      \n",
            "                                                                 \n",
            " conv2d_1 (Conv2D)           (None, 24, 24, 64)        102464    \n",
            "                                                                 \n",
            " max_pooling2d (MaxPooling2D  (None, 12, 12, 64)       0         \n",
            " )                                                               \n",
            "                                                                 \n",
            " conv2d_2 (Conv2D)           (None, 8, 8, 128)         204928    \n",
            "                                                                 \n",
            " conv2d_3 (Conv2D)           (None, 4, 4, 128)         409728    \n",
            "                                                                 \n",
            " max_pooling2d_1 (MaxPooling  (None, 2, 2, 128)        0         \n",
            " 2D)                                                             \n",
            "                                                                 \n",
            " flatten (Flatten)           (None, 512)               0         \n",
            "                                                                 \n",
            " dense (Dense)               (None, 10)                5130      \n",
            "                                                                 \n",
            "=================================================================\n",
            "Total params: 727,114\n",
            "Trainable params: 727,114\n",
            "Non-trainable params: 0\n",
            "_________________________________________________________________\n"
          ]
        }
      ]
    },
    {
      "cell_type": "code",
      "source": [
        "cifar10=keras.datasets.cifar10\n",
        "(train_data, train_label), (test_data, test_label) = cifar10.load_data()\n",
        "train_label_original=train_label\n",
        "train_label = keras.utils.to_categorical(train_label)\n",
        "test_label = keras.utils.to_categorical(test_label)"
      ],
      "metadata": {
        "id": "4eM5EOSr4DLB",
        "colab": {
          "base_uri": "https://localhost:8080/"
        },
        "outputId": "32ac7c8b-acdb-43da-d8b2-d50afda4d554"
      },
      "execution_count": 2,
      "outputs": [
        {
          "output_type": "stream",
          "name": "stdout",
          "text": [
            "Downloading data from https://www.cs.toronto.edu/~kriz/cifar-10-python.tar.gz\n",
            "170500096/170498071 [==============================] - 2s 0us/step\n",
            "170508288/170498071 [==============================] - 2s 0us/step\n"
          ]
        }
      ]
    },
    {
      "cell_type": "code",
      "source": [
        "import matplotlib.pyplot as plt\n",
        "category=['airplane','automobile','bird','cat','deer','dog','frog','horse','ship','truck']\n",
        "plt.imshow(train_data[0])\n",
        "plt.title(category[int(train_label_original[0])])\n",
        "plt.show()\n",
        "print(train_label_original[0])"
      ],
      "metadata": {
        "colab": {
          "base_uri": "https://localhost:8080/",
          "height": 298
        },
        "id": "4j8cPTbDahQr",
        "outputId": "e2197711-4e65-4390-9652-72868bc5cec1"
      },
      "execution_count": 3,
      "outputs": [
        {
          "output_type": "display_data",
          "data": {
            "text/plain": [
              "<Figure size 432x288 with 1 Axes>"
            ],
            "image/png": "[encoded data removed]"
          },
          "metadata": {
            "needs_background": "light"
          }
        },
        {
          "output_type": "stream",
          "name": "stdout",
          "text": [
            "[6]\n"
          ]
        }
      ]
    },
    {
      "cell_type": "code",
      "source": [
        "train_history=model.fit(train_data,train_label,epochs=30,batch_size=512)\n"
      ],
      "metadata": {
        "id": "UFCQb8bgy3nU",
        "colab": {
          "base_uri": "https://localhost:8080/"
        },
        "outputId": "c2d96da0-281c-4a1a-ae24-50155525db06"
      },
      "execution_count": 4,
      "outputs": [
        {
          "output_type": "stream",
          "name": "stdout",
          "text": [
            "Epoch 1/30\n",
            "98/98 [==============================] - 18s 51ms/step - loss: 11.4380 - accuracy: 0.1609\n",
            "Epoch 2/30\n",
            "98/98 [==============================] - 4s 44ms/step - loss: 2.3295 - accuracy: 0.1855\n",
            "Epoch 3/30\n",
            "98/98 [==============================] - 4s 44ms/step - loss: 2.0917 - accuracy: 0.2796\n",
            "Epoch 4/30\n",
            "98/98 [==============================] - 4s 44ms/step - loss: 1.9486 - accuracy: 0.3496\n",
            "Epoch 5/30\n",
            "98/98 [==============================] - 4s 45ms/step - loss: 1.8583 - accuracy: 0.3827\n",
            "Epoch 6/30\n",
            "98/98 [==============================] - 4s 45ms/step - loss: 1.7854 - accuracy: 0.4112\n",
            "Epoch 7/30\n",
            "98/98 [==============================] - 4s 45ms/step - loss: 1.5032 - accuracy: 0.4858\n",
            "Epoch 8/30\n",
            "98/98 [==============================] - 4s 45ms/step - loss: 1.3672 - accuracy: 0.5316\n",
            "Epoch 9/30\n",
            "98/98 [==============================] - 4s 46ms/step - loss: 1.2027 - accuracy: 0.5882\n",
            "Epoch 10/30\n",
            "98/98 [==============================] - 4s 46ms/step - loss: 1.0708 - accuracy: 0.6340\n",
            "Epoch 11/30\n",
            "98/98 [==============================] - 5s 46ms/step - loss: 0.9467 - accuracy: 0.6777\n",
            "Epoch 12/30\n",
            "98/98 [==============================] - 5s 48ms/step - loss: 0.8356 - accuracy: 0.7144\n",
            "Epoch 13/30\n",
            "98/98 [==============================] - 5s 47ms/step - loss: 0.7181 - accuracy: 0.7550\n",
            "Epoch 14/30\n",
            "98/98 [==============================] - 5s 47ms/step - loss: 0.6196 - accuracy: 0.7897\n",
            "Epoch 15/30\n",
            "98/98 [==============================] - 5s 47ms/step - loss: 0.5227 - accuracy: 0.8210\n",
            "Epoch 16/30\n",
            "98/98 [==============================] - 5s 47ms/step - loss: 0.4450 - accuracy: 0.8498\n",
            "Epoch 17/30\n",
            "98/98 [==============================] - 5s 47ms/step - loss: 0.4000 - accuracy: 0.8689\n",
            "Epoch 18/30\n",
            "98/98 [==============================] - 5s 48ms/step - loss: 0.3450 - accuracy: 0.8860\n",
            "Epoch 19/30\n",
            "98/98 [==============================] - 5s 48ms/step - loss: 0.3167 - accuracy: 0.8998\n",
            "Epoch 20/30\n",
            "98/98 [==============================] - 5s 49ms/step - loss: 0.2719 - accuracy: 0.9128\n",
            "Epoch 21/30\n",
            "98/98 [==============================] - 5s 49ms/step - loss: 0.2630 - accuracy: 0.9170\n",
            "Epoch 22/30\n",
            "98/98 [==============================] - 5s 49ms/step - loss: 0.2539 - accuracy: 0.9230\n",
            "Epoch 23/30\n",
            "98/98 [==============================] - 5s 49ms/step - loss: 0.2229 - accuracy: 0.9329\n",
            "Epoch 24/30\n",
            "98/98 [==============================] - 5s 49ms/step - loss: 0.2118 - accuracy: 0.9349\n",
            "Epoch 25/30\n",
            "98/98 [==============================] - 5s 49ms/step - loss: 0.2160 - accuracy: 0.9394\n",
            "Epoch 26/30\n",
            "98/98 [==============================] - 5s 48ms/step - loss: 0.1878 - accuracy: 0.9428\n",
            "Epoch 27/30\n",
            "98/98 [==============================] - 5s 48ms/step - loss: 0.2065 - accuracy: 0.9407\n",
            "Epoch 28/30\n",
            "98/98 [==============================] - 5s 49ms/step - loss: 0.1884 - accuracy: 0.9472\n",
            "Epoch 29/30\n",
            "98/98 [==============================] - 5s 48ms/step - loss: 0.1889 - accuracy: 0.9478\n",
            "Epoch 30/30\n",
            "98/98 [==============================] - 5s 48ms/step - loss: 0.2044 - accuracy: 0.9455\n"
          ]
        }
      ]
    },
    {
      "cell_type": "code",
      "source": [
        "score=model.evaluate(test_data, test_label)\n",
        "print(score[1])"
      ],
      "metadata": {
        "id": "SC2VW7yl87F-",
        "colab": {
          "base_uri": "https://localhost:8080/"
        },
        "outputId": "50fefdd5-e2f8-4fd8-eba2-4e48ec81f40c"
      },
      "execution_count": 5,
      "outputs": [
        {
          "output_type": "stream",
          "name": "stdout",
          "text": [
            "313/313 [==============================] - 2s 5ms/step - loss: 3.5033 - accuracy: 0.6001\n",
            "0.6000999808311462\n"
          ]
        }
      ]
    },
    {
      "cell_type": "code",
      "source": [
        "#繪製正確性與損失歷史圖\n",
        "import matplotlib.pyplot as plt\n",
        "import numpy as np\n",
        "\n",
        "def show_train_history(train_history, train):\n",
        "    plt.plot(train_history.history[train])\n",
        "    plt.title('Train History')\n",
        "    plt.ylabel(train)\n",
        "    plt.xlabel('Epoch')\n",
        "    plt.legend(['train'], loc='center right')\n",
        "    plt.show()\n",
        "\n",
        "show_train_history(train_history, 'accuracy')\n",
        "show_train_history(train_history, 'loss')"
      ],
      "metadata": {
        "colab": {
          "base_uri": "https://localhost:8080/",
          "height": 573
        },
        "id": "YycOQ_auS_1s",
        "outputId": "d32362b9-d37e-444b-f38f-52033a110943"
      },
      "execution_count": 6,
      "outputs": [
        {
          "output_type": "display_data",
          "data": {
            "text/plain": [
              "<Figure size 432x288 with 1 Axes>"
            ],
            "image/png": "[encoded data removed]"
          },
          "metadata": {
            "needs_background": "light"
          }
        },
        {
          "output_type": "display_data",
          "data": {
            "text/plain": [
              "<Figure size 432x288 with 1 Axes>"
            ],
            "image/png": "[encoded data removed]"
          },
          "metadata": {
            "needs_background": "light"
          }
        }
      ]
    }
  ]
}